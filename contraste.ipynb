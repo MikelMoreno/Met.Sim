{
 "cells": [
  {
   "cell_type": "markdown",
   "metadata": {},
   "source": [
    "Para determinar que tipo de distribución se sigue, se ha decidido hacer uso del contraste Komogorov-Smirnov (K-S). Gracias a que es conocido que el tiempo de desplazamiento es una variable aleatoria continua, no es necesario buscar otro tipo de prueba. \n",
    "$$D_{n}^{+}=\\max(F_{n}(x)-F(x))$$"
   ]
  },
  {
   "cell_type": "code",
   "execution_count": 1,
   "metadata": {},
   "outputs": [],
   "source": [
    "#importar los paquetes necesarios\n",
    "import pandas as pd\n",
    "import numpy as np\n",
    "import random\n",
    "from scipy import stats\n",
    "from scipy.stats import norm, expon, uniform\n"
   ]
  },
  {
   "cell_type": "code",
   "execution_count": 2,
   "metadata": {},
   "outputs": [],
   "source": [
    "# introducir los datos\n",
    "file= open('resources/E8.desplazamientos.txt')\n",
    "datos_despl= np.loadtxt(file, unpack='true')\n",
    "file.close()"
   ]
  },
  {
   "cell_type": "code",
   "execution_count": 3,
   "metadata": {},
   "outputs": [
    {
     "data": {
      "text/plain": [
       "KstestResult(statistic=0.01035501786004428, pvalue=0.6532086289520058)"
      ]
     },
     "execution_count": 3,
     "metadata": {},
     "output_type": "execute_result"
    }
   ],
   "source": [
    "loc, scale = norm.fit(datos_despl)\n",
    "n = norm(loc=loc, scale=scale)\n",
    "stats.kstest(datos_despl, n.cdf)"
   ]
  },
  {
   "cell_type": "markdown",
   "metadata": {},
   "source": [
    "Según el teorema de Glivenko-Cantelli, si la muestra proviene de la distribución F (x), entonces Dn converge a 0 casi seguramente en el límite cuando n va al infinito. Y el p-value informa si los números difieren significativamente.\n",
    "$$||F_n-F||_\\infty = \\sup_{x\\in\\mathbb{R}}{|F_n(x)-F(x)|}\\rightarrow 0 $$"
   ]
  },
  {
   "cell_type": "code",
   "execution_count": 4,
   "metadata": {},
   "outputs": [
    {
     "data": {
      "text/plain": [
       "KstestResult(statistic=0.2177462278558, pvalue=1.277189611216561e-208)"
      ]
     },
     "execution_count": 4,
     "metadata": {},
     "output_type": "execute_result"
    }
   ],
   "source": [
    "loc, scale = uniform.fit(datos_despl)\n",
    "u = uniform(loc=loc, scale=scale)\n",
    "stats.kstest(datos_despl, u.cdf)"
   ]
  },
  {
   "cell_type": "code",
   "execution_count": 5,
   "metadata": {},
   "outputs": [
    {
     "data": {
      "text/plain": [
       "KstestResult(statistic=0.3581258415266688, pvalue=0.0)"
      ]
     },
     "execution_count": 5,
     "metadata": {},
     "output_type": "execute_result"
    }
   ],
   "source": [
    "loc, scale = expon.fit(datos_despl)\n",
    "ex = expon(loc=loc, scale=scale)\n",
    "stats.kstest(datos_despl, ex.cdf)"
   ]
  },
  {
   "cell_type": "code",
   "execution_count": 6,
   "metadata": {},
   "outputs": [
    {
     "name": "stdout",
     "output_type": "stream",
     "text": [
      "Valor de Mu: 10.007615178514001 \n",
      "Valor de Sigma: 3.0373964893054275\n"
     ]
    }
   ],
   "source": [
    "mu = np.mean(datos_despl)\n",
    "sigma = np.std(datos_despl)\n",
    "print(\"Valor de Mu: \" + str(mu) + \" \\nValor de Sigma: \" + str(sigma))\n"
   ]
  },
  {
   "cell_type": "markdown",
   "metadata": {},
   "source": [
    "De acuerdo con los resultados de los test de Kolmogorov–Smirnov, el valor estadística D es muy pequeño y el p-value es más de 5% para la distribución normal.\n",
    "Teniendo esto en cuenta podemos asegurar que la distribución de los tiempos del desplazamiento es normal."
   ]
  },
  {
   "cell_type": "code",
   "execution_count": 7,
   "metadata": {},
   "outputs": [
    {
     "data": {
      "text/plain": [
       "AndersonResult(statistic=1106.7655637247299, critical_values=array([0.922, 1.078, 1.341, 1.606, 1.957]), significance_level=array([15. , 10. ,  5. ,  2.5,  1. ]))"
      ]
     },
     "execution_count": 7,
     "metadata": {},
     "output_type": "execute_result"
    }
   ],
   "source": [
    "stats.anderson(datos_despl, dist='expon')"
   ]
  }
 ],
 "metadata": {
  "interpreter": {
   "hash": "712809c88706269278da8895161e1ff4c18dfc6b8182d0002dd8919da68aa182"
  },
  "kernelspec": {
   "display_name": "Python 3.9.8 64-bit (windows store)",
   "language": "python",
   "name": "python3"
  },
  "language_info": {
   "codemirror_mode": {
    "name": "ipython",
    "version": 3
   },
   "file_extension": ".py",
   "mimetype": "text/x-python",
   "name": "python",
   "nbconvert_exporter": "python",
   "pygments_lexer": "ipython3",
   "version": "3.9.7"
  },
  "orig_nbformat": 4
 },
 "nbformat": 4,
 "nbformat_minor": 2
}
